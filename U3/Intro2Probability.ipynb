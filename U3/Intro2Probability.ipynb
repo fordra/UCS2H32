{
  "nbformat": 4,
  "nbformat_minor": 0,
  "metadata": {
    "colab": {
      "name": "5-probability.ipynb",
      "provenance": [],
      "include_colab_link": true
    },
    "kernelspec": {
      "display_name": "Python 3",
      "language": "python",
      "name": "python3"
    },
    "language_info": {
      "codemirror_mode": {
        "name": "ipython",
        "version": 3
      },
      "file_extension": ".py",
      "mimetype": "text/x-python",
      "name": "python",
      "nbconvert_exporter": "python",
      "pygments_lexer": "ipython3",
      "version": "3.7.6"
    }
  },
  "cells": [
    {
      "cell_type": "markdown",
      "metadata": {
        "id": "view-in-github",
        "colab_type": "text"
      },
      "source": [
        "<a href=\"https://colab.research.google.com/github/fordra/UCS2H32/blob/main/notebooks/5-probability.ipynb\" target=\"_parent\"><img src=\"https://colab.research.google.com/assets/colab-badge.svg\" alt=\"Open In Colab\"/></a>"
      ]
    },
    {
      "cell_type": "markdown",
      "metadata": {
        "id": "aTOLgsbN69-P"
      },
      "source": [
        "# Introduction to Probability\n"
      ]
    },
    {
      "cell_type": "markdown",
      "metadata": {
        "id": "yqUB9FTRAxd-"
      },
      "source": [
        "In this notebook, *Introduction to Probability*, introduces the mathematical fields that enable us to quantify uncertainty as well as to make predictions despite uncertainty.\n",
        "\n",
        "Through the measured exposition of theory paired with interactive examples, you’ll develop a working understanding of variables, probability distributions, metrics for assessing distributions, and graphical models."
      ]
    },
    {
      "cell_type": "markdown",
      "metadata": {
        "id": "Z68nQ0ekCYhF"
      },
      "source": [
        "*Introduction to Probability*\n",
        "* What Probability Theory Is\n",
        "* A Brief History: Frequentists vs Bayesians\n",
        "* Applications of Probability to Machine Learning\n",
        "* Random Variables\n",
        "* Discrete vs Continuous Variables\n",
        "* Probability Mass and Probability Density Functions\n",
        "* Expected Value\n",
        "* Measures of Central Tendency: Mean, Median, and Mode\n",
        "* Quantiles: Quartiles, Deciles, and Percentiles\n",
        "* Measures of Dispersion: Variance, Standard Deviation, and Standard Error\n",
        "* Measures of Relatedness: Covariance and Correlation\n",
        "* Marginal and Conditional Probabilities\n",
        "* Independence and Conditional Independence\n",
        "\n",
        "*Distributions in Machine Learning*\n",
        "* Uniform\n",
        "* Gaussian: Normal and Standard Normal\n",
        "* The Central Limit Theorem\n",
        "* Log-Normal\n",
        "* Exponential and Laplace\n",
        "* Binomial and Multinomial\n",
        "* Poisson\n",
        "* Mixture Distributions\n",
        "* Preprocessing Data for Model Input\n"
      ]
    },
    {
      "cell_type": "markdown",
      "metadata": {
        "id": "HDE74CXX5ChI"
      },
      "source": [
        "## Introduction to Probability"
      ]
    },
    {
      "cell_type": "code",
      "metadata": {
        "id": "kzRpCm2a5ChJ"
      },
      "source": [
        "import numpy as np\n",
        "import scipy.stats as st\n",
        "import matplotlib.pyplot as plt\n",
        "import seaborn as sns"
      ],
      "execution_count": null,
      "outputs": []
    },
    {
      "cell_type": "markdown",
      "metadata": {
        "id": "U_680ypO5ChJ"
      },
      "source": [
        "### Probability Theory Is?"
      ]
    },
    {
      "cell_type": "markdown",
      "source": [
        "#### Events and Sample Spaces"
      ],
      "metadata": {
        "id": "uqzuaq1oD1XV"
      }
    },
    {
      "cell_type": "markdown",
      "metadata": {
        "id": "fwEAqIqR5ChJ"
      },
      "source": [
        "Assume we have a fair coin, which is equally likely to come up heads (H) or tails (T)."
      ]
    },
    {
      "cell_type": "markdown",
      "metadata": {
        "id": "kFl3g0GW5ChK"
      },
      "source": [
        "In instances like this, where the two outcomes are equally likely, we can use probability theory to express the likelihood of a particular **event** by comparing it with the **sample space** (the set of all possible outcomes; can be denoted as $\\Omega$):"
      ]
    },
    {
      "cell_type": "markdown",
      "metadata": {
        "id": "X82RIGz15ChK"
      },
      "source": [
        "$$ P(\\text{event}) = \\frac{\\text{# of outcomes of event}}{\\text{# of outcomes in }\\Omega} $$"
      ]
    },
    {
      "cell_type": "markdown",
      "metadata": {
        "id": "VuVWT8NI5ChK"
      },
      "source": [
        "If we're only flipping the coin once, then there are only two possible outcomes in the sample space $\\Omega$: it will either be H or T (using set notation, we could write this as $\\Omega$ = {H, T})."
      ]
    },
    {
      "cell_type": "markdown",
      "metadata": {
        "id": "9W5MsKt15ChK"
      },
      "source": [
        "Therefore: $$ P(H) = \\frac{1}{2} = 0.5 $$"
      ]
    },
    {
      "cell_type": "markdown",
      "metadata": {
        "id": "V_bzjMvs5ChK"
      },
      "source": [
        "Equally: $$ P(T) = \\frac{1}{2} = 0.5 $$"
      ]
    },
    {
      "cell_type": "markdown",
      "metadata": {
        "id": "PfHEQzcd5ChL"
      },
      "source": [
        "As a separate example, consider drawing a single card from a standard deck of 52 playing cards. In this case, the number of possible outcomes in the sample space $\\Omega$ is 52."
      ]
    },
    {
      "cell_type": "markdown",
      "metadata": {
        "id": "qtAa3aRW5ChL"
      },
      "source": [
        "There is only one ace of spades in the deck, so the probability of drawing it is: $$ P(\\text{ace of spades}) = \\frac{1}{52} \\approx 0.019 $$"
      ]
    },
    {
      "cell_type": "markdown",
      "metadata": {
        "id": "81-uQ4ug5ChL"
      },
      "source": [
        "In contrast there are four aces, so the probability of drawing an ace is: $$ P(\\text{ace}) = \\frac{4}{52} \\approx 0.077 $$"
      ]
    },
    {
      "cell_type": "markdown",
      "metadata": {
        "id": "uqco79Cd5ChL"
      },
      "source": [
        "Some additional examples:\n",
        "$$ P(\\text{spade}) = \\frac{13}{52} = 0.25 $$\n",
        "$$ P(\\text{ace OR spade}) = \\frac{16}{52} \\approx 0.307 $$\n",
        "$$ P(\\text{card}) = \\frac{52}{52} = 1 $$\n",
        "$$ P(\\text{turnip}) = \\frac{0}{52} = 0 $$"
      ]
    },
    {
      "cell_type": "markdown",
      "metadata": {
        "id": "snINg1tz5ChL"
      },
      "source": [
        "#### Multiple Independent Observations"
      ]
    },
    {
      "cell_type": "markdown",
      "metadata": {
        "id": "gIPR6og95ChL"
      },
      "source": [
        "Let's return to coin flipping to illustrate situations where we have an event consisting of multiple independent observations. For example, the probability of throwing two consecutive heads is: $$ P(\\text{HH}) = \\frac{1}{4} = 0.25 $$ ...because there is one HH event in the sample set of four possible events ($\\Omega$ = {HH, HT, TH, TT})."
      ]
    },
    {
      "cell_type": "markdown",
      "metadata": {
        "id": "rT11_oHg5ChM"
      },
      "source": [
        "Likewise, the probability of throwing *three* consecutive heads is: $$ P(\\text{HHH}) = \\frac{1}{8} = 0.125 $$ ...because there is one HHH event in the sample set of eight possible events ($\\Omega$ = {HHH, HHT, HTH, THH, HTT, THT, TTH, TTT})."
      ]
    },
    {
      "cell_type": "markdown",
      "metadata": {
        "id": "ru44PKUe5ChM"
      },
      "source": [
        "As final examples, the probability of throwing exactly two heads in three tosses is $ P = \\frac{3}{8} = 0.375 $ while the probability of throwing at least two heads in three tosses is $ P = \\frac{4}{8} = 0.5 $."
      ]
    },
    {
      "cell_type": "markdown",
      "metadata": {
        "id": "vh3WnRhm5ChM"
      },
      "source": [
        "#### Combining Probabilities"
      ]
    },
    {
      "cell_type": "markdown",
      "metadata": {
        "id": "YInbLu1i5ChM"
      },
      "source": [
        "In order to combine probabilities, we can multiply them. So the probability of throwing five consecutive heads, for example, is the product of probabilities we've already calculated: $$ P(\\text{HHHHH}) = P(\\text{HH}) \\times P(\\text{HHH}) = \\frac{1}{4} \\times \\frac{1}{8} = \\frac{1}{32} \\approx 0.031 $$"
      ]
    },
    {
      "cell_type": "markdown",
      "metadata": {
        "id": "w-wlHpI05ChM"
      },
      "source": [
        "#### Combinatorics"
      ]
    },
    {
      "cell_type": "markdown",
      "metadata": {
        "id": "1ckSVU3p5ChM"
      },
      "source": [
        "*Combinatorics* is a field of mathematics devoted to counting that can be helpful to studying probabilities. We can use **factorials** (e.g., $4! = 4 \\times 3 \\times 2 \\times 1 = 24$), which feature prominently in combinatorics, to calculate probabilities instead of painstakingly determining all of the members of the sample space $\\Omega$ and counting subsets within $\\Omega$."
      ]
    },
    {
      "cell_type": "markdown",
      "metadata": {
        "id": "zYL4ODP75ChN"
      },
      "source": [
        "More specifically, we can calculate the number of outcomes of an event using the \"number of combinations\" equation: $$ {n \\choose k} = \\frac{n!}{k!(n - k)!} $$"
      ]
    },
    {
      "cell_type": "markdown",
      "metadata": {
        "id": "kQhpdNEL5ChN"
      },
      "source": [
        "The left-hand side of the equation is read \"$n$ choose $k$\" and is most quickly understood via an example: If we have three coin flips, $n = 3$, and if we're interested in the number of ways to get two head flips (or two tail flips, for that matter), $k = 2$. We would read this as \"3 choose 2\" and calculate it as:\n",
        "$$ {n \\choose k} = {3 \\choose 2} = \\frac{3!}{2!(3 - 2)!} = \\frac{3!}{(2!)(1!)} = \\frac{3 \\times 2 \\times 1}{(2 \\times 1)(1)} = \\frac{6}{(2)(1)} = \\frac{6}{2} = 3 $$"
      ]
    },
    {
      "cell_type": "markdown",
      "metadata": {
        "id": "PoPfNW275ChN"
      },
      "source": [
        "This provide us with the numerator for event-probability equation from above: $$ P(\\text{event}) = \\frac{\\text{# of outcomes of event}}{\\text{# of outcomes in }\\Omega} $$"
      ]
    },
    {
      "cell_type": "markdown",
      "metadata": {
        "id": "ThoyCpl35ChO"
      },
      "source": [
        "In the case of coin-flipping (or any binary process with equally probable outcomes), the denominator can be calculated with $2^n$ (where $n$ is again the number of coin flips), so: $$ \\frac{\\text{# of outcomes of event}}{\\text{# of outcomes in }\\Omega} = \\frac{3}{2^n} = \\frac{3}{2^3} = \\frac{3}{8} = 0.375 $$"
      ]
    },
    {
      "cell_type": "markdown",
      "metadata": {
        "id": "QKRugWrQ5ChO"
      },
      "source": [
        "**Exercises**:\n",
        "\n",
        "1. What is the probability of drawing the ace of spades twice in a row? (Assume that any card drawn on the first draw will be put back in the deck before the second draw.)\n",
        "2. You draw a card from a deck of cards. After replacing the drawn card back in the deck and shuffling thoroughly, what is the probability of drawing the same card again?\n",
        "3. Use $n \\choose k$ to calculate the probability of throwing three heads in five coin tosses.\n",
        "4. Create a Python method that solves exercise 3 and incorporates the $n \\choose k$ formula $\\frac{n!}{k!(n - k)!}$. With the method in hand, calculate the probability of -- in five tosses -- throwing each of zero, one, two, three, four, and five heads."
      ]
    },
    {
      "cell_type": "markdown",
      "metadata": {
        "id": "X1d1mBjR5ChO"
      },
      "source": [
        "**Spoiler alert**: Solutions are below so scroll carefully..."
      ]
    },
    {
      "cell_type": "code",
      "metadata": {
        "id": "_ZzjXjHy5ChO"
      },
      "source": [],
      "execution_count": null,
      "outputs": []
    },
    {
      "cell_type": "code",
      "metadata": {
        "id": "sbq5esRv5ChO"
      },
      "source": [],
      "execution_count": null,
      "outputs": []
    },
    {
      "cell_type": "code",
      "source": [],
      "metadata": {
        "id": "ru1t8_LRajrP"
      },
      "execution_count": null,
      "outputs": []
    },
    {
      "cell_type": "code",
      "source": [],
      "metadata": {
        "id": "1UGIpLpbajZf"
      },
      "execution_count": null,
      "outputs": []
    },
    {
      "cell_type": "code",
      "metadata": {
        "id": "oPtm03U95ChO"
      },
      "source": [],
      "execution_count": null,
      "outputs": []
    },
    {
      "cell_type": "markdown",
      "metadata": {
        "id": "U7IgNJwV5ChO"
      },
      "source": [
        "**Solutions**:"
      ]
    },
    {
      "cell_type": "markdown",
      "metadata": {
        "id": "qiSjQ1mR5ChP"
      },
      "source": [
        "1. $$ P(\\text{ace of spades}) \\times P(\\text{ace of spades}) = \\left(\\frac{1}{52}\\right)^2 = \\frac{1}{2704} = 0.00037 = 0.037\\% $$"
      ]
    },
    {
      "cell_type": "markdown",
      "metadata": {
        "id": "R3aUyZvi5ChP"
      },
      "source": [
        "2. $$ P(\\text{any card}) = \\frac{52}{52} = 1 $$\n",
        "$$ P(\\text{same card as first draw}) = \\frac{1}{52} \\approx 0.019 $$\n",
        "$$ P(\\text{any card})P(\\text{same card as first draw}) = (1)(\\frac{1}{52}) = \\frac{1}{52} \\approx 0.019$$"
      ]
    },
    {
      "cell_type": "markdown",
      "metadata": {
        "id": "S8tA4XlQ5ChP"
      },
      "source": [
        "3. $$ {n \\choose k} = {5 \\choose 3} = \\frac{5!}{3!(5 - 3)!} = \\frac{5!}{(3!)(2!)} = \\frac{5 \\times 4 \\times 3 \\times 2 \\times 1}{(3 \\times 2 \\times 1)(2 \\times 1)} = \\frac{120}{(6)(2)} = \\frac{120}{12} = 10 $$"
      ]
    },
    {
      "cell_type": "markdown",
      "metadata": {
        "id": "aS4bc83U5ChP"
      },
      "source": [
        "$$P = \\frac{10}{2^n} = \\frac{10}{2^5} = \\frac{10}{32} = 0.3125 $$"
      ]
    },
    {
      "cell_type": "code",
      "metadata": {
        "id": "0_3pRRTX5ChP"
      },
      "source": [
        "from math import factorial"
      ],
      "execution_count": null,
      "outputs": []
    },
    {
      "cell_type": "code",
      "metadata": {
        "id": "MgdCyK805ChP"
      },
      "source": [
        "def coinflip_prob(n, k):\n",
        "    n_choose_k = factorial(n)/(factorial(k)*factorial(n-k))\n",
        "    return n_choose_k/2**n"
      ],
      "execution_count": null,
      "outputs": []
    },
    {
      "cell_type": "code",
      "metadata": {
        "id": "4N3_Ebkum1Vh",
        "outputId": "615a95bc-9cda-45c3-fb19-07ca2e4c05c5",
        "colab": {
          "base_uri": "https://localhost:8080/"
        }
      },
      "source": [
        "coinflip_prob(5, 3)"
      ],
      "execution_count": null,
      "outputs": [
        {
          "output_type": "execute_result",
          "data": {
            "text/plain": [
              "0.3125"
            ]
          },
          "metadata": {},
          "execution_count": 23
        }
      ]
    },
    {
      "cell_type": "code",
      "metadata": {
        "id": "6UO8q5N45ChQ",
        "colab": {
          "base_uri": "https://localhost:8080/"
        },
        "outputId": "204f0737-4206-427e-afd5-6ed12397a2f9"
      },
      "source": [
        "[coinflip_prob(5, h) for h in range(6)]"
      ],
      "execution_count": null,
      "outputs": [
        {
          "output_type": "execute_result",
          "data": {
            "text/plain": [
              "[0.03125, 0.15625, 0.3125, 0.3125, 0.15625, 0.03125]"
            ]
          },
          "metadata": {},
          "execution_count": 24
        }
      ]
    },
    {
      "cell_type": "markdown",
      "metadata": {
        "id": "gjSkHJ8r5ChQ"
      },
      "source": [
        "#### The Law of Large Numbers"
      ]
    },
    {
      "cell_type": "markdown",
      "metadata": {
        "id": "U9NDLpfo5ChR"
      },
      "source": [
        "While a fair coin should land heads up 50% of the time, as we've seen above, with small sample sizes, there is a non-trivial possibility that in a given experiment we could flip heads on all of the tosses. For example, we've calculated that there's a 3.1% chance that we'll get heads on every toss in a small five-toss experiment."
      ]
    },
    {
      "cell_type": "markdown",
      "metadata": {
        "id": "7rfVQfP55ChR"
      },
      "source": [
        "The **law of large numbers** states that the more experiments we run, the closer we will tend to get to the expected probability."
      ]
    },
    {
      "cell_type": "markdown",
      "metadata": {
        "id": "7A3Va-dB5ChR"
      },
      "source": [
        "Let's run some code to examine this in practice. To start, we'll create a vector of exponentially increasing $n$umbers of coin tosses per experiment:"
      ]
    },
    {
      "cell_type": "code",
      "metadata": {
        "id": "ymsouctT5ChR"
      },
      "source": [
        "ns = np.array([2, 4, 8, 16, 32, 64, 128, 256, 512, 1024, 2048, 4096])"
      ],
      "execution_count": null,
      "outputs": []
    },
    {
      "cell_type": "code",
      "metadata": {
        "id": "hgmoAn2g5ChR"
      },
      "source": [
        "np.random.seed(42) # for reproducibility"
      ],
      "execution_count": null,
      "outputs": []
    },
    {
      "cell_type": "markdown",
      "metadata": {
        "id": "hKtZzZKK5ChR"
      },
      "source": [
        "We will discuss the `binomial()` method in more detail in *Segment 2*. For now it suffices to think of its two arguments as *number of coin flips in experiment* and *probability of heads*, while it returns the number of flips that are heads in the experiment."
      ]
    },
    {
      "cell_type": "code",
      "metadata": {
        "id": "xRQh-0iG5ChS",
        "colab": {
          "base_uri": "https://localhost:8080/"
        },
        "outputId": "00a53585-c04d-4d17-9880-afa6d4531204"
      },
      "source": [
        "np.random.binomial(1, 0.5)"
      ],
      "execution_count": null,
      "outputs": [
        {
          "output_type": "execute_result",
          "data": {
            "text/plain": [
              "0"
            ]
          },
          "metadata": {},
          "execution_count": 27
        }
      ]
    },
    {
      "cell_type": "code",
      "metadata": {
        "id": "OwfWWhFm5ChS",
        "colab": {
          "base_uri": "https://localhost:8080/"
        },
        "outputId": "e8096823-c532-4227-c9d3-0707aca72cf2"
      },
      "source": [
        "heads_count = [np.random.binomial(n, 0.5) for n in ns]\n",
        "heads_count"
      ],
      "execution_count": null,
      "outputs": [
        {
          "output_type": "execute_result",
          "data": {
            "text/plain": [
              "[2, 3, 4, 6, 13, 27, 54, 136, 258, 509, 1038, 2094]"
            ]
          },
          "metadata": {},
          "execution_count": 28
        }
      ]
    },
    {
      "cell_type": "code",
      "metadata": {
        "id": "rL4PbNmY5ChS",
        "colab": {
          "base_uri": "https://localhost:8080/"
        },
        "outputId": "14253f63-cd5b-4e9e-c610-5d5a002805ed"
      },
      "source": [
        "proportion_heads = heads_count/ns\n",
        "proportion_heads"
      ],
      "execution_count": null,
      "outputs": [
        {
          "output_type": "execute_result",
          "data": {
            "text/plain": [
              "array([1.        , 0.75      , 0.5       , 0.375     , 0.40625   ,\n",
              "       0.421875  , 0.421875  , 0.53125   , 0.50390625, 0.49707031,\n",
              "       0.50683594, 0.51123047])"
            ]
          },
          "metadata": {},
          "execution_count": 29
        }
      ]
    },
    {
      "cell_type": "code",
      "metadata": {
        "id": "vlz7a5DU5ChS",
        "colab": {
          "base_uri": "https://localhost:8080/",
          "height": 449
        },
        "outputId": "1177815c-9a1c-4f81-939d-43fe8821f161"
      },
      "source": [
        "fig, ax = plt.subplots()\n",
        "plt.xlabel('Number of coin flips in experiment')\n",
        "plt.ylabel('Proportion of flips that are heads')\n",
        "plt.axhline(0.5, color='orange')\n",
        "_ = ax.scatter(ns, proportion_heads)"
      ],
      "execution_count": null,
      "outputs": [
        {
          "output_type": "display_data",
          "data": {
            "text/plain": [
              "<Figure size 640x480 with 1 Axes>"
            ],
            "image/png": "[encoded data removed]"
          },
          "metadata": {}
        }
      ]
    },
    {
      "cell_type": "code",
      "source": [
        "np.random.binomial(100000, 0.5)"
      ],
      "metadata": {
        "id": "4JaSFa2AsV8t",
        "outputId": "4e07e548-7e8b-4ddc-be17-c4679caf61a9",
        "colab": {
          "base_uri": "https://localhost:8080/"
        }
      },
      "execution_count": null,
      "outputs": [
        {
          "output_type": "execute_result",
          "data": {
            "text/plain": [
              "50007"
            ]
          },
          "metadata": {},
          "execution_count": 31
        }
      ]
    },
    {
      "cell_type": "code",
      "source": [
        "50007/100000"
      ],
      "metadata": {
        "id": "wDYYaGx_sauC",
        "outputId": "cd6678ad-70ea-43dd-b29b-a20a590230a5",
        "colab": {
          "base_uri": "https://localhost:8080/"
        }
      },
      "execution_count": null,
      "outputs": [
        {
          "output_type": "execute_result",
          "data": {
            "text/plain": [
              "0.50007"
            ]
          },
          "metadata": {},
          "execution_count": 32
        }
      ]
    },
    {
      "cell_type": "markdown",
      "metadata": {
        "id": "RvrI0woM5ChS"
      },
      "source": [
        "It is important at this juncture to address the **gambler's fallacy**. It is a common misconception that the law of large numbers dictates that if, say, five heads have been flipped in a row, then the probability of tails is higher on the sixth flip. In fact, probability theory holds that each coin flip is completely independent of all others. Thus, every single flip of a fair coin has a 50% chance of being heads, no matter what happened on preceding flips."
      ]
    },
    {
      "cell_type": "markdown",
      "metadata": {
        "id": "j2-wA_6E5ChT"
      },
      "source": [
        "(To capitalize on this misunderstanding, roulette tables at casinos often have prominent displays tracking the history of red versus black even though there's a 47.4% chance of each on every spin of the roulette wheel no matter what happened on preceding spins. Gamblers will note, say, five reds in a row at a given table and flock to it to bet on black.)"
      ]
    },
    {
      "cell_type": "markdown",
      "metadata": {
        "id": "hKciO43C5ChT"
      },
      "source": [
        "#### Statistics"
      ]
    },
    {
      "cell_type": "markdown",
      "metadata": {
        "id": "WqitDIkk5ChT"
      },
      "source": [
        "The field of statistics applies probability theory to make inferences with a quantifiable degree of confidence. For example, let's say we ran the five-coin-flip experiment 1000 times with a fair coin:"
      ]
    },
    {
      "cell_type": "code",
      "metadata": {
        "id": "Nvc9rCnq5ChT"
      },
      "source": [
        "n_experiments = 1000\n",
        "heads_count = np.random.binomial(5, 0.5, n_experiments)"
      ],
      "execution_count": null,
      "outputs": []
    },
    {
      "cell_type": "markdown",
      "metadata": {
        "id": "siW-zTqm5ChT"
      },
      "source": [
        "We can plot the results of our experiment to create a **probability distribution**:"
      ]
    },
    {
      "cell_type": "code",
      "metadata": {
        "id": "FRiZSpwy5ChT"
      },
      "source": [
        "heads, event_count = np.unique(heads_count, return_counts=True)"
      ],
      "execution_count": null,
      "outputs": []
    },
    {
      "cell_type": "code",
      "metadata": {
        "id": "8TEmy-_c5ChT",
        "colab": {
          "base_uri": "https://localhost:8080/"
        },
        "outputId": "6d58a17e-c933-4b25-cdb5-1a73371161c0"
      },
      "source": [
        "heads"
      ],
      "execution_count": null,
      "outputs": [
        {
          "output_type": "execute_result",
          "data": {
            "text/plain": [
              "array([0, 1, 2, 3, 4, 5])"
            ]
          },
          "metadata": {},
          "execution_count": 35
        }
      ]
    },
    {
      "cell_type": "code",
      "metadata": {
        "id": "Yn5wlP-A5ChU",
        "colab": {
          "base_uri": "https://localhost:8080/"
        },
        "outputId": "e20a9fe8-b5c5-47ff-d916-e722761d027f"
      },
      "source": [
        "event_count"
      ],
      "execution_count": null,
      "outputs": [
        {
          "output_type": "execute_result",
          "data": {
            "text/plain": [
              "array([ 33, 181, 283, 313, 161,  29])"
            ]
          },
          "metadata": {},
          "execution_count": 36
        }
      ]
    },
    {
      "cell_type": "code",
      "metadata": {
        "id": "LaBGlw-95ChU",
        "outputId": "b2dc1c3d-fa22-4d6d-9ecf-dbaedf945d5f",
        "colab": {
          "base_uri": "https://localhost:8080/"
        }
      },
      "source": [
        "event_proba = event_count/n_experiments\n",
        "event_proba"
      ],
      "execution_count": null,
      "outputs": [
        {
          "output_type": "execute_result",
          "data": {
            "text/plain": [
              "array([0.033, 0.181, 0.283, 0.313, 0.161, 0.029])"
            ]
          },
          "metadata": {},
          "execution_count": 37
        }
      ]
    },
    {
      "cell_type": "code",
      "metadata": {
        "id": "ecU6IMfE5ChU",
        "colab": {
          "base_uri": "https://localhost:8080/",
          "height": 449
        },
        "outputId": "a1970ed8-2274-4a00-d35c-55c4ae6f6c1b"
      },
      "source": [
        "plt.bar(heads, event_proba, color='mediumpurple')\n",
        "plt.xlabel('Heads flips (out of 5 tosses)')\n",
        "_ = plt.ylabel('Event probability')"
      ],
      "execution_count": null,
      "outputs": [
        {
          "output_type": "display_data",
          "data": {
            "text/plain": [
              "<Figure size 640x480 with 1 Axes>"
            ],
            "image/png": "[encoded data removed]"
          },
          "metadata": {}
        }
      ]
    },
    {
      "cell_type": "markdown",
      "metadata": {
        "id": "KwhO9Zn75ChU"
      },
      "source": [
        "Let's say we'd like to now test a coin as to whether it's fair or not. We flip it five times and all five times it comes up heads. Does this imply it's not a fair coin? Statistics arms us with tools to use the probability distribution above to answer this question with a particular degree of confidence."
      ]
    },
    {
      "cell_type": "markdown",
      "metadata": {
        "id": "AENw26_O5ChU"
      },
      "source": [
        "**Return to slides here.**"
      ]
    },
    {
      "cell_type": "markdown",
      "metadata": {
        "id": "LMC_Cvs85ChV"
      },
      "source": [
        "### Expected Value"
      ]
    },
    {
      "cell_type": "code",
      "metadata": {
        "id": "XOyKNFZw5ChV",
        "colab": {
          "base_uri": "https://localhost:8080/"
        },
        "outputId": "aa8bab75-1f7c-4aaa-8e9f-d2e429c3dd3e"
      },
      "source": [
        "P = [coinflip_prob(5, x) for x in range(6)]\n",
        "P"
      ],
      "execution_count": null,
      "outputs": [
        {
          "output_type": "execute_result",
          "data": {
            "text/plain": [
              "[0.03125, 0.15625, 0.3125, 0.3125, 0.15625, 0.03125]"
            ]
          },
          "metadata": {},
          "execution_count": 39
        }
      ]
    },
    {
      "cell_type": "markdown",
      "metadata": {
        "id": "XCCclUvR5ChV"
      },
      "source": [
        "From the slides:\n",
        "$$ \\mathbb{E} = \\sum_x xP(x) $$"
      ]
    },
    {
      "cell_type": "code",
      "metadata": {
        "id": "37gjROzg5ChV",
        "colab": {
          "base_uri": "https://localhost:8080/"
        },
        "outputId": "1adff704-d46a-47f4-8936-aa89637914b0"
      },
      "source": [
        "E = sum([x*P[x] for x in range(6)])\n",
        "E"
      ],
      "execution_count": null,
      "outputs": [
        {
          "output_type": "execute_result",
          "data": {
            "text/plain": [
              "2.5"
            ]
          },
          "metadata": {},
          "execution_count": 40
        }
      ]
    },
    {
      "cell_type": "markdown",
      "metadata": {
        "id": "xOq8r0Ud5ChV"
      },
      "source": [
        "**Exercises**:\n",
        "\n",
        "1. Assuming heads = 1 and tails = 0, what’s the expected value of the toss of a fair coin?\n",
        "2. ...and of two tosses of a fair coin?\n",
        "3. You are one of a thousand people to purchase a lottery ticket. The ticket costs \\\\$10 and pays out \\\\$5000. What value should you expect from this transaction?\n"
      ]
    },
    {
      "cell_type": "markdown",
      "metadata": {
        "id": "uziVFQUR6A4x"
      },
      "source": [
        "**Spoiler Alert**: Solutions below"
      ]
    },
    {
      "cell_type": "code",
      "metadata": {
        "id": "vsl_1I3n5ChV"
      },
      "source": [],
      "execution_count": null,
      "outputs": []
    },
    {
      "cell_type": "code",
      "metadata": {
        "id": "sZLZtHsN5ChV"
      },
      "source": [],
      "execution_count": null,
      "outputs": []
    },
    {
      "cell_type": "code",
      "metadata": {
        "id": "q2Th7Qb-5ChW"
      },
      "source": [],
      "execution_count": null,
      "outputs": []
    },
    {
      "cell_type": "markdown",
      "metadata": {
        "id": "ZYyeFfVW5ChW"
      },
      "source": [
        "**Solutions**:\n",
        "\n",
        "1. (½)0 + (½)1 = 0 + ½ = ½\n",
        "2. (¼)0 + (½)1 + (¼)2 = 0 + ½ + ½ = 1\n",
        "\n",
        "3.\n",
        "(1/1000)(\\\\$5000-\\\\$10) + (999/1000)(-\\\\$10) \\\n",
        "= (1/1000)(\\\\$4990) + (999/1000)(-\\\\$10) \\\n",
        "= \\\\$4.99 + (\\\\$-9.99) \\\n",
        "= -\\\\$5\n"
      ]
    },
    {
      "cell_type": "markdown",
      "metadata": {
        "id": "IwCzvbE05ChW"
      },
      "source": [
        "### Measures of Central Tendency"
      ]
    },
    {
      "cell_type": "markdown",
      "metadata": {
        "id": "Nz_RAtEf5ChW"
      },
      "source": [
        "Measures of central tendency provide a summary statistic on the center of a given distribution.\n",
        "\n",
        "Given that definition, the topic most recently covered above (expected value) should be recognizable as a measure of central tendency. There are indeed many measures of central tendency (see [here](https://en.wikipedia.org/wiki/Central_tendency)); the mean, median and mode are the most common and we'll detail them in this section."
      ]
    },
    {
      "cell_type": "markdown",
      "metadata": {
        "id": "HrAt0oVb5ChW"
      },
      "source": [
        "#### Mean"
      ]
    },
    {
      "cell_type": "markdown",
      "metadata": {
        "id": "pCKs9uFF5ChW"
      },
      "source": [
        "The most common measure of central tendency of all (so much so that it's synonomous with the lay usage of the term \"average\"), is the **mean**, often symbolized with $\\mu$ (population) or $\\bar{x}$ (sample):"
      ]
    },
    {
      "cell_type": "markdown",
      "metadata": {
        "id": "sBIObqs05ChW"
      },
      "source": [
        "$$ \\bar{x} = \\frac{\\sum_{i=1}^n x_i}{n} $$"
      ]
    },
    {
      "cell_type": "markdown",
      "metadata": {
        "id": "-O0hmQam5ChX"
      },
      "source": [
        "Expected value is in fact the long-term *mean* of some function (i.e., $\\mu = \\mathbb{E}$). Let's calculate how close the sample mean, $\\bar{x}$, of our five-coin-flip experiments comes to the expected value, $\\mathbb{E} = 2.5$."
      ]
    },
    {
      "cell_type": "code",
      "metadata": {
        "id": "fJY0mexL5ChX",
        "colab": {
          "base_uri": "https://localhost:8080/"
        },
        "outputId": "0b4d8f1f-2986-409a-b87a-1fbe2ca5a236"
      },
      "source": [
        "len(heads_count)"
      ],
      "execution_count": null,
      "outputs": [
        {
          "output_type": "execute_result",
          "data": {
            "text/plain": [
              "1000"
            ]
          },
          "metadata": {},
          "execution_count": 41
        }
      ]
    },
    {
      "cell_type": "code",
      "metadata": {
        "id": "sU3-c-EJ5ChX",
        "colab": {
          "base_uri": "https://localhost:8080/"
        },
        "outputId": "8b5500ad-aa31-4a67-89de-e33b78d7c59e"
      },
      "source": [
        "heads_count[0:20]"
      ],
      "execution_count": null,
      "outputs": [
        {
          "output_type": "execute_result",
          "data": {
            "text/plain": [
              "array([2, 3, 2, 3, 3, 1, 3, 1, 1, 4, 4, 3, 2, 1, 3, 2, 1, 2, 1, 4])"
            ]
          },
          "metadata": {},
          "execution_count": 42
        }
      ]
    },
    {
      "cell_type": "code",
      "metadata": {
        "id": "pA0ai4I45ChX",
        "colab": {
          "base_uri": "https://localhost:8080/"
        },
        "outputId": "afac2bcb-091e-4ab2-f734-ea43220f681e"
      },
      "source": [
        "sum(heads_count)/len(heads_count)"
      ],
      "execution_count": null,
      "outputs": [
        {
          "output_type": "execute_result",
          "data": {
            "text/plain": [
              "2.475"
            ]
          },
          "metadata": {},
          "execution_count": 43
        }
      ]
    },
    {
      "cell_type": "markdown",
      "metadata": {
        "id": "fN9wBEb55ChX"
      },
      "source": [
        "Unsurprisingly, NumPy comes with a built-in function:"
      ]
    },
    {
      "cell_type": "code",
      "metadata": {
        "id": "OXRi9fki-5CB",
        "outputId": "8dd28577-98a9-4e64-92db-ea1063e19fd0",
        "colab": {
          "base_uri": "https://localhost:8080/"
        }
      },
      "source": [
        "np.mean(heads_count)"
      ],
      "execution_count": null,
      "outputs": [
        {
          "output_type": "execute_result",
          "data": {
            "text/plain": [
              "2.475"
            ]
          },
          "metadata": {},
          "execution_count": 44
        }
      ]
    },
    {
      "cell_type": "code",
      "metadata": {
        "id": "4c6p-UVK-aok",
        "outputId": "c9ae6636-d894-4b4d-a942-03356c730e39",
        "colab": {
          "base_uri": "https://localhost:8080/"
        }
      },
      "source": [
        "heads_count.mean() # fun!"
      ],
      "execution_count": null,
      "outputs": [
        {
          "output_type": "execute_result",
          "data": {
            "text/plain": [
              "2.475"
            ]
          },
          "metadata": {},
          "execution_count": 45
        }
      ]
    },
    {
      "cell_type": "markdown",
      "metadata": {
        "id": "vD8bvjix5ChY"
      },
      "source": [
        "Pretty close! The law of large numbers implies that as we increase the number of experiments (e.g., to a million -- you're welcome to try it), we'll converge on $\\mathbb{E}=2.5$."
      ]
    },
    {
      "cell_type": "markdown",
      "metadata": {
        "id": "Q1qtow1O5ChY"
      },
      "source": [
        "#### Median"
      ]
    },
    {
      "cell_type": "markdown",
      "metadata": {
        "id": "4TZHQsES5ChY"
      },
      "source": [
        "The second most common measure of central tendency is the **median**, the midpoint value in the distribution:"
      ]
    },
    {
      "cell_type": "code",
      "metadata": {
        "id": "Ff3aQam65ChY"
      },
      "source": [
        "heads_count.sort()"
      ],
      "execution_count": null,
      "outputs": []
    },
    {
      "cell_type": "code",
      "metadata": {
        "id": "0ECSOjaA5ChY",
        "colab": {
          "base_uri": "https://localhost:8080/"
        },
        "outputId": "a40799bd-88e4-46f9-b2c9-94c58d6266e2"
      },
      "source": [
        "heads_count[0:20]"
      ],
      "execution_count": null,
      "outputs": [
        {
          "output_type": "execute_result",
          "data": {
            "text/plain": [
              "array([0, 0, 0, 0, 0, 0, 0, 0, 0, 0, 0, 0, 0, 0, 0, 0, 0, 0, 0, 0])"
            ]
          },
          "metadata": {},
          "execution_count": 47
        }
      ]
    },
    {
      "cell_type": "code",
      "metadata": {
        "id": "ySeyJ81I5ChY",
        "colab": {
          "base_uri": "https://localhost:8080/"
        },
        "outputId": "f998f9c8-e10f-4b93-d6d4-02e08d4210f9"
      },
      "source": [
        "heads_count[-20:]"
      ],
      "execution_count": null,
      "outputs": [
        {
          "output_type": "execute_result",
          "data": {
            "text/plain": [
              "array([5, 5, 5, 5, 5, 5, 5, 5, 5, 5, 5, 5, 5, 5, 5, 5, 5, 5, 5, 5])"
            ]
          },
          "metadata": {},
          "execution_count": 48
        }
      ]
    },
    {
      "cell_type": "code",
      "metadata": {
        "id": "SdeMf4RR5ChZ",
        "colab": {
          "base_uri": "https://localhost:8080/"
        },
        "outputId": "d665f22f-6332-4374-e726-d2b66bc52b62"
      },
      "source": [
        "len(heads_count)"
      ],
      "execution_count": null,
      "outputs": [
        {
          "output_type": "execute_result",
          "data": {
            "text/plain": [
              "1000"
            ]
          },
          "metadata": {},
          "execution_count": 49
        }
      ]
    },
    {
      "cell_type": "markdown",
      "metadata": {
        "id": "WWfqQ4rI5ChZ"
      },
      "source": [
        "With an odd number of values in a distribution, we consider the single midpoint to be the median, e.g., the midpoint of the sorted array `[2, 4, 6, 9, 10]` is six.\n",
        "\n",
        "With an even number, we take the mean of the two values that straddle the midpoint:"
      ]
    },
    {
      "cell_type": "code",
      "metadata": {
        "id": "xQPz0RT45ChZ",
        "colab": {
          "base_uri": "https://localhost:8080/"
        },
        "outputId": "cdee7fd8-05ff-4387-bb00-f6eecaec5639"
      },
      "source": [
        "heads_count[499]"
      ],
      "execution_count": null,
      "outputs": [
        {
          "output_type": "execute_result",
          "data": {
            "text/plain": [
              "3"
            ]
          },
          "metadata": {},
          "execution_count": 50
        }
      ]
    },
    {
      "cell_type": "code",
      "metadata": {
        "id": "RavYR6JX5ChZ",
        "colab": {
          "base_uri": "https://localhost:8080/"
        },
        "outputId": "9476551a-5249-47e7-cf6b-9e7979cd2eed"
      },
      "source": [
        "heads_count[500]"
      ],
      "execution_count": null,
      "outputs": [
        {
          "output_type": "execute_result",
          "data": {
            "text/plain": [
              "3"
            ]
          },
          "metadata": {},
          "execution_count": 51
        }
      ]
    },
    {
      "cell_type": "markdown",
      "metadata": {
        "id": "o7CLGD4z5ChZ"
      },
      "source": [
        "...which in this case is obviously three:"
      ]
    },
    {
      "cell_type": "code",
      "metadata": {
        "id": "MZ6cEUJ25ChZ",
        "colab": {
          "base_uri": "https://localhost:8080/"
        },
        "outputId": "f6e487b0-45d2-4518-fd81-e456ed860216"
      },
      "source": [
        "(3+3)/2"
      ],
      "execution_count": null,
      "outputs": [
        {
          "output_type": "execute_result",
          "data": {
            "text/plain": [
              "3.0"
            ]
          },
          "metadata": {},
          "execution_count": 52
        }
      ]
    },
    {
      "cell_type": "markdown",
      "metadata": {
        "id": "udtzZf_X5Cha"
      },
      "source": [
        "Built-in method:"
      ]
    },
    {
      "cell_type": "code",
      "metadata": {
        "id": "dxxtSiCp5Cha",
        "colab": {
          "base_uri": "https://localhost:8080/"
        },
        "outputId": "18707d42-9580-42df-d136-170ed0a6b0d5"
      },
      "source": [
        "np.median(heads_count)"
      ],
      "execution_count": null,
      "outputs": [
        {
          "output_type": "execute_result",
          "data": {
            "text/plain": [
              "3.0"
            ]
          },
          "metadata": {},
          "execution_count": 53
        }
      ]
    },
    {
      "cell_type": "markdown",
      "metadata": {
        "id": "k3Fv1AMu5Cha"
      },
      "source": [
        "#### Mode"
      ]
    },
    {
      "cell_type": "markdown",
      "metadata": {
        "id": "RiUTOi3U5Cha"
      },
      "source": [
        "The **mode** is the final common measure of central tendency. It is simply the value in the distribution that occurs most frequently.\n",
        "\n",
        "As is clear in the most recently output chart, in the case of our five-coin-toss experiment, the mode is three."
      ]
    },
    {
      "cell_type": "markdown",
      "metadata": {
        "id": "ukKeQScV5Cha"
      },
      "source": [
        "Method available in the SciPy `stats` module:"
      ]
    },
    {
      "cell_type": "code",
      "metadata": {
        "id": "FPrHiYh65Cha",
        "colab": {
          "base_uri": "https://localhost:8080/"
        },
        "outputId": "85fc1d39-e723-4ffa-992a-7acbb3cce369"
      },
      "source": [
        "st.mode(heads_count)"
      ],
      "execution_count": null,
      "outputs": [
        {
          "output_type": "execute_result",
          "data": {
            "text/plain": [
              "ModeResult(mode=3, count=313)"
            ]
          },
          "metadata": {},
          "execution_count": 54
        }
      ]
    },
    {
      "cell_type": "code",
      "metadata": {
        "id": "PFUn0iJX5Chb",
        "colab": {
          "base_uri": "https://localhost:8080/"
        },
        "outputId": "b3726701-6b1e-4ad5-9b28-cac705bcd60f"
      },
      "source": [
        "st.mode(heads_count)[0]"
      ],
      "execution_count": null,
      "outputs": [
        {
          "output_type": "execute_result",
          "data": {
            "text/plain": [
              "3"
            ]
          },
          "metadata": {},
          "execution_count": 55
        }
      ]
    },
    {
      "cell_type": "markdown",
      "metadata": {
        "id": "36qtYyry5Chb"
      },
      "source": [
        "With small sample sizes, the mean typically provides the most accurate measure of central tendency.\n",
        "\n",
        "With larger sample sizes, the mean, median, and mode will tend to coincide, as long as the distribution isn't skewed:"
      ]
    },
    {
      "cell_type": "code",
      "metadata": {
        "id": "NcU6qKo35Chb"
      },
      "source": [
        "x = st.skewnorm.rvs(0, size=1000) # first argument is \"skewness\"; 0 has no skew"
      ],
      "execution_count": null,
      "outputs": []
    },
    {
      "cell_type": "code",
      "metadata": {
        "id": "c13nv_wO5Chb",
        "colab": {
          "base_uri": "https://localhost:8080/",
          "height": 430
        },
        "outputId": "10a55885-b4cb-441f-a26d-c8364d50979f"
      },
      "source": [
        "fig, ax = plt.subplots()\n",
        "plt.axvline(x = np.mean(x), color='orange')\n",
        "plt.axvline(x = np.median(x), color='green')\n",
        "_ = plt.hist(x, color = 'lightgray')\n",
        "# Note: Mode only applies to PMFs; this is a PDF"
      ],
      "execution_count": null,
      "outputs": [
        {
          "output_type": "display_data",
          "data": {
            "text/plain": [
              "<Figure size 640x480 with 1 Axes>"
            ],
            "image/png": "[encoded data removed]"
          },
          "metadata": {}
        }
      ]
    },
    {
      "cell_type": "markdown",
      "metadata": {
        "id": "EdRT_Lme5Chb"
      },
      "source": [
        "Skewed distributions, in contrast, drag the mean away from the center and toward the tail:"
      ]
    },
    {
      "cell_type": "code",
      "metadata": {
        "id": "85C_EFZZ5Chb"
      },
      "source": [
        "x = st.skewnorm.rvs(10, size=1000)"
      ],
      "execution_count": null,
      "outputs": []
    },
    {
      "cell_type": "code",
      "metadata": {
        "id": "pT0zxSPd5Chb",
        "colab": {
          "base_uri": "https://localhost:8080/",
          "height": 430
        },
        "outputId": "4558f861-cb1b-4ecd-f76f-922e9ef337ab"
      },
      "source": [
        "fig, ax = plt.subplots()\n",
        "plt.axvline(x = np.mean(x), color='orange')\n",
        "_ = plt.hist(x, color = 'lightgray')"
      ],
      "execution_count": null,
      "outputs": [
        {
          "output_type": "display_data",
          "data": {
            "text/plain": [
              "<Figure size 640x480 with 1 Axes>"
            ],
            "image/png": "[encoded data removed]"
          },
          "metadata": {}
        }
      ]
    },
    {
      "cell_type": "markdown",
      "metadata": {
        "id": "-uDxp8YT5Chc"
      },
      "source": [
        "The mode is least impacted by skew, but is only applicable to discrete distributions. For continuous distributions with skew (e.g., salary data), median is typically the choice measure of central tendency:"
      ]
    },
    {
      "cell_type": "code",
      "metadata": {
        "id": "zzrBO1fg5Chc",
        "colab": {
          "base_uri": "https://localhost:8080/",
          "height": 430
        },
        "outputId": "72d85f3f-6875-4753-80ea-e9e4fb46753b"
      },
      "source": [
        "fig, ax = plt.subplots()\n",
        "plt.axvline(x = np.mean(x), color='orange')\n",
        "plt.axvline(x = np.median(x), color='green')\n",
        "_ = plt.hist(x, color = 'lightgray')"
      ],
      "execution_count": null,
      "outputs": [
        {
          "output_type": "display_data",
          "data": {
            "text/plain": [
              "<Figure size 640x480 with 1 Axes>"
            ],
            "image/png": "[encoded data removed]"
          },
          "metadata": {}
        }
      ]
    },
    {
      "cell_type": "markdown",
      "metadata": {
        "id": "RRr8oPbC5Chc"
      },
      "source": [
        "### Quantiles"
      ]
    },
    {
      "cell_type": "markdown",
      "metadata": {
        "id": "Sorh-6kS5Chc"
      },
      "source": [
        "The median, which divides a distribution in two at its midpoint, is the most well-known example of a quantile:"
      ]
    },
    {
      "cell_type": "code",
      "metadata": {
        "id": "CZfX5qP95Chc",
        "colab": {
          "base_uri": "https://localhost:8080/"
        },
        "outputId": "92cf07bd-ba91-4122-a348-66cc73c5234e"
      },
      "source": [
        "np.median(x)"
      ],
      "execution_count": null,
      "outputs": [
        {
          "output_type": "execute_result",
          "data": {
            "text/plain": [
              "0.6987365121323832"
            ]
          },
          "metadata": {},
          "execution_count": 61
        }
      ]
    },
    {
      "cell_type": "code",
      "metadata": {
        "id": "YqPFRjcO5Chc",
        "colab": {
          "base_uri": "https://localhost:8080/"
        },
        "outputId": "b260d74a-249b-4d14-9b3b-c031db5c4290"
      },
      "source": [
        "np.quantile(x, 0.5)"
      ],
      "execution_count": null,
      "outputs": [
        {
          "output_type": "execute_result",
          "data": {
            "text/plain": [
              "0.6987365121323832"
            ]
          },
          "metadata": {},
          "execution_count": 62
        }
      ]
    },
    {
      "cell_type": "markdown",
      "metadata": {
        "id": "HpK3wcmy5Chd"
      },
      "source": [
        "Generally speaking, quantiles divide up distributions and the most common are:\n",
        "\n",
        "* Percentiles,\n",
        "* Quartiles, and\n",
        "* Deciles."
      ]
    },
    {
      "cell_type": "markdown",
      "metadata": {
        "id": "kIB-rEJQ5Chd"
      },
      "source": [
        "**Percentiles** divide the distribution at any point out of one hundred (\"pour cent\" is French for \"out of a hundred\"). For example, if we'd like to identify the threshold for the top 5% of a distribution, we'd cut it at the 95th percentile. Or, for the top 1%, we'd cut at the 99th percentile."
      ]
    },
    {
      "cell_type": "code",
      "metadata": {
        "id": "3T9AE9aS5Chd",
        "colab": {
          "base_uri": "https://localhost:8080/"
        },
        "outputId": "d5c8a7de-fdfb-47a7-e36b-e18784ee221a"
      },
      "source": [
        "p = np.percentile(x, [95, 99])\n",
        "p"
      ],
      "execution_count": null,
      "outputs": [
        {
          "output_type": "execute_result",
          "data": {
            "text/plain": [
              "array([2.06249928, 2.51830108])"
            ]
          },
          "metadata": {},
          "execution_count": 63
        }
      ]
    },
    {
      "cell_type": "code",
      "metadata": {
        "id": "A_guMMCh5Chd",
        "colab": {
          "base_uri": "https://localhost:8080/",
          "height": 430
        },
        "outputId": "42e41717-6490-42bb-ca49-36861c0f4d7a"
      },
      "source": [
        "fig, ax = plt.subplots()\n",
        "plt.axvline(x = p[0], color='orange')\n",
        "plt.axvline(x = p[1], color='red')\n",
        "_ = plt.hist(x, color = 'lightgray')"
      ],
      "execution_count": null,
      "outputs": [
        {
          "output_type": "display_data",
          "data": {
            "text/plain": [
              "<Figure size 640x480 with 1 Axes>"
            ],
            "image/png": "[encoded data removed]"
          },
          "metadata": {}
        }
      ]
    },
    {
      "cell_type": "markdown",
      "metadata": {
        "id": "atT5Wbtn5Chd"
      },
      "source": [
        "Note that the Numpy `quantile()` method is identical to the `percentile()` method except we pass proportions (ranging from zero to one) into the former and percentages (ranging from zero to 100) into the latter:"
      ]
    },
    {
      "cell_type": "code",
      "metadata": {
        "id": "xEQo8y7u5Chd",
        "colab": {
          "base_uri": "https://localhost:8080/"
        },
        "outputId": "897c8e6c-ccdf-4913-9943-19c70695189b"
      },
      "source": [
        "np.quantile(x, [.95, .99])"
      ],
      "execution_count": null,
      "outputs": [
        {
          "output_type": "execute_result",
          "data": {
            "text/plain": [
              "array([2.06249928, 2.51830108])"
            ]
          },
          "metadata": {},
          "execution_count": 65
        }
      ]
    },
    {
      "cell_type": "markdown",
      "metadata": {
        "id": "vDhFcNWj5Che"
      },
      "source": [
        "**Quartiles**, as their name suggests, are quantiles that divide a distribution into quarters by splitting the distribution at the 25th percentile, the median (a.k.a. the 50th percentile), and the 75th percentile:"
      ]
    },
    {
      "cell_type": "code",
      "metadata": {
        "id": "miEwAsQV5Che",
        "colab": {
          "base_uri": "https://localhost:8080/"
        },
        "outputId": "439d4a4b-33c7-4f05-8367-5587f87f0e3c"
      },
      "source": [
        "q = np.percentile(x, [25, 50, 75])\n",
        "q"
      ],
      "execution_count": null,
      "outputs": [
        {
          "output_type": "execute_result",
          "data": {
            "text/plain": [
              "array([0.32494046, 0.69873651, 1.19431522])"
            ]
          },
          "metadata": {},
          "execution_count": 66
        }
      ]
    },
    {
      "cell_type": "code",
      "metadata": {
        "id": "kQvjcq3O5Che",
        "colab": {
          "base_uri": "https://localhost:8080/",
          "height": 430
        },
        "outputId": "61015ead-9899-408f-c2a9-3f3b8a09fd9a"
      },
      "source": [
        "fig, ax = plt.subplots()\n",
        "plt.axvline(x = q[0], color='cornflowerblue')\n",
        "plt.axvline(x = q[1], color='green')\n",
        "plt.axvline(x = q[2], color='cornflowerblue')\n",
        "_ = plt.hist(x, color = 'lightgray')"
      ],
      "execution_count": null,
      "outputs": [
        {
          "output_type": "display_data",
          "data": {
            "text/plain": [
              "<Figure size 640x480 with 1 Axes>"
            ],
            "image/png": "[encoded data removed]"
          },
          "metadata": {}
        }
      ]
    },
    {
      "cell_type": "markdown",
      "metadata": {
        "id": "JWVX933i5Che"
      },
      "source": [
        "Finally, **deciles** (from Latin *decimus*, meaning \"tenth\") divide a distribution into ten evenly-sized segments:"
      ]
    },
    {
      "cell_type": "code",
      "metadata": {
        "id": "SD59HmMa5Che",
        "colab": {
          "base_uri": "https://localhost:8080/"
        },
        "outputId": "038c573a-137c-4160-a6d5-65e623d61923"
      },
      "source": [
        "[i for i in range(10, 100, 10)]"
      ],
      "execution_count": null,
      "outputs": [
        {
          "output_type": "execute_result",
          "data": {
            "text/plain": [
              "[10, 20, 30, 40, 50, 60, 70, 80, 90]"
            ]
          },
          "metadata": {},
          "execution_count": 68
        }
      ]
    },
    {
      "cell_type": "code",
      "metadata": {
        "id": "pVuo_iTo5Chf",
        "colab": {
          "base_uri": "https://localhost:8080/"
        },
        "outputId": "8b3463d2-5715-478c-c0b7-574c331dfbed"
      },
      "source": [
        "d = np.percentile(x, range(10, 100, 10))\n",
        "d"
      ],
      "execution_count": null,
      "outputs": [
        {
          "output_type": "execute_result",
          "data": {
            "text/plain": [
              "array([0.11871856, 0.24991108, 0.3992659 , 0.53290322, 0.69873651,\n",
              "       0.86771624, 1.08994827, 1.30781239, 1.75782249])"
            ]
          },
          "metadata": {},
          "execution_count": 69
        }
      ]
    },
    {
      "cell_type": "code",
      "metadata": {
        "id": "wex6mxXx5Chf",
        "colab": {
          "base_uri": "https://localhost:8080/",
          "height": 430
        },
        "outputId": "b81135b1-b7d9-4588-a39a-62e3cf7f58dc"
      },
      "source": [
        "fig, ax = plt.subplots()\n",
        "[plt.axvline(x = d_i, color='cornflowerblue') for d_i in d]\n",
        "_ = plt.hist(x, color = 'lightgray')"
      ],
      "execution_count": null,
      "outputs": [
        {
          "output_type": "display_data",
          "data": {
            "text/plain": [
              "<Figure size 640x480 with 1 Axes>"
            ],
            "image/png": "[encoded data removed]"
          },
          "metadata": {}
        }
      ]
    },
    {
      "cell_type": "markdown",
      "metadata": {
        "id": "ul0eYeis5Chf"
      },
      "source": [
        "As examples, we can refer to the bottom 10% as the bottom decile or the first decile, while the top 10% is the top decile or tenth decile."
      ]
    },
    {
      "cell_type": "markdown",
      "metadata": {
        "id": "quNYihVQ5Chk"
      },
      "source": [
        "### Measures of Dispersion"
      ]
    },
    {
      "cell_type": "markdown",
      "metadata": {
        "id": "MKaq4xJ25Chk"
      },
      "source": [
        "IQR is a relatively rare measure of the dispersion of values around the center of a distribution. The most widely-used are:\n",
        "\n",
        "* Variance,\n",
        "* Standard deviation, and\n",
        "* Standard error."
      ]
    },
    {
      "cell_type": "markdown",
      "metadata": {
        "id": "Ti6GdZeZ5Chk"
      },
      "source": [
        "**Variance** (denoted with $\\sigma^2$) can be written using expected-value notation, but it's easier to understand without it:\n",
        "$$ \\sigma^2 = \\frac{\\sum_{i=1}^n (x_i-\\bar{x})^2}{n} $$"
      ]
    },
    {
      "cell_type": "markdown",
      "metadata": {
        "id": "B1lo6mxN5Chk"
      },
      "source": [
        "(The astute follower of the *Machine Learning Foundations* series may notice that this formula is the same as mean-squared-error cost, except $x_i$ is being compared to the mean $\\mu$ instead of a predicted value $\\hat{x}_i$.)"
      ]
    },
    {
      "cell_type": "markdown",
      "metadata": {
        "id": "wiOq636c5Chk"
      },
      "source": [
        "(Technically speaking, we should divide by $n$-1 with a sample of data, but with the large datasets typical of machine learning, it's a negligible difference. If $n$ were equal to a small number like 8 then it would matter.)"
      ]
    },
    {
      "cell_type": "markdown",
      "metadata": {
        "id": "pD27D-0g5Chk"
      },
      "source": [
        "(Also technically speaking, the variance of a sample is typically denoted with $s^2$ as opposed to the Greek $\\sigma^2$, akin to how $\\bar{x}$ denotes the mean of a sample while the Greek $\\mu$ is reserved for population mean.)"
      ]
    },
    {
      "cell_type": "markdown",
      "metadata": {
        "id": "4G-ogAFP5Chk"
      },
      "source": [
        "As an example let's calculate the variance of the PDF `x` from earlier:"
      ]
    },
    {
      "cell_type": "code",
      "metadata": {
        "id": "AGO5TXzt5Chk",
        "colab": {
          "base_uri": "https://localhost:8080/"
        },
        "outputId": "8eb8942d-a582-478c-ee8a-a08aa7a9af80"
      },
      "source": [
        "xbar = np.mean(x)\n",
        "xbar"
      ],
      "execution_count": null,
      "outputs": [
        {
          "output_type": "execute_result",
          "data": {
            "text/plain": [
              "0.8219573880882259"
            ]
          },
          "metadata": {},
          "execution_count": 84
        }
      ]
    },
    {
      "cell_type": "code",
      "metadata": {
        "id": "u-fEygHR5Chl"
      },
      "source": [
        "squared_differences = [(x_i - xbar)**2 for x_i in x]"
      ],
      "execution_count": null,
      "outputs": []
    },
    {
      "cell_type": "code",
      "metadata": {
        "id": "qdvZ5_fg5Chl",
        "colab": {
          "base_uri": "https://localhost:8080/"
        },
        "outputId": "dc7eea6e-4eae-444a-af94-c0241b681840"
      },
      "source": [
        "squared_differences[0:10]"
      ],
      "execution_count": null,
      "outputs": [
        {
          "output_type": "execute_result",
          "data": {
            "text/plain": [
              "[0.9856434536454379,\n",
              " 0.9170226052916489,\n",
              " 0.8965181282231266,\n",
              " 0.8883307031718269,\n",
              " 0.8733501430824243,\n",
              " 0.8562478309191935,\n",
              " 0.8319771034452769,\n",
              " 0.8310929040089835,\n",
              " 0.7863402041234238,\n",
              " 0.7766155393407362]"
            ]
          },
          "metadata": {},
          "execution_count": 86
        }
      ]
    },
    {
      "cell_type": "code",
      "metadata": {
        "id": "jduq8CVv5Chl",
        "colab": {
          "base_uri": "https://localhost:8080/"
        },
        "outputId": "b1101c77-a7ed-4621-8356-6112cd9c9acc"
      },
      "source": [
        "sigma_squared = sum(squared_differences)/len(x)\n",
        "sigma_squared"
      ],
      "execution_count": null,
      "outputs": [
        {
          "output_type": "execute_result",
          "data": {
            "text/plain": [
              "0.39813585982250543"
            ]
          },
          "metadata": {},
          "execution_count": 87
        }
      ]
    },
    {
      "cell_type": "markdown",
      "metadata": {
        "id": "mnZoMJAj5Chl"
      },
      "source": [
        "Of course there's a built-in NumPy method:"
      ]
    },
    {
      "cell_type": "code",
      "metadata": {
        "id": "pIci-1It5Chl",
        "colab": {
          "base_uri": "https://localhost:8080/"
        },
        "outputId": "70bb8e86-b626-4ba8-bc73-0bcbbd68b4b6"
      },
      "source": [
        "np.var(x)"
      ],
      "execution_count": null,
      "outputs": [
        {
          "output_type": "execute_result",
          "data": {
            "text/plain": [
              "0.3981358598225057"
            ]
          },
          "metadata": {},
          "execution_count": 88
        }
      ]
    },
    {
      "cell_type": "markdown",
      "metadata": {
        "id": "TChK1Qii5Chl"
      },
      "source": [
        "#### Standard Deviation"
      ]
    },
    {
      "cell_type": "markdown",
      "metadata": {
        "id": "Ei-js4cF5Chm"
      },
      "source": [
        "A straightforward derivative of variance is **standard deviation** (denoted with $\\sigma$), which is convenient because its units are on the same scale as the values in the distribution:\n",
        "$$ \\sigma = \\sqrt{\\sigma^2} $$"
      ]
    },
    {
      "cell_type": "code",
      "metadata": {
        "id": "ginsMxgi5Chm",
        "colab": {
          "base_uri": "https://localhost:8080/"
        },
        "outputId": "9f74126a-559d-4b4b-db8c-00e782008937"
      },
      "source": [
        "sigma = sigma_squared**(1/2)\n",
        "sigma"
      ],
      "execution_count": null,
      "outputs": [
        {
          "output_type": "execute_result",
          "data": {
            "text/plain": [
              "0.6309800787841923"
            ]
          },
          "metadata": {},
          "execution_count": 89
        }
      ]
    },
    {
      "cell_type": "code",
      "metadata": {
        "id": "mT0pi9Qx5Chm",
        "colab": {
          "base_uri": "https://localhost:8080/"
        },
        "outputId": "86680d42-ae76-48de-f76e-14f40f68942e"
      },
      "source": [
        "np.std(x)"
      ],
      "execution_count": null,
      "outputs": [
        {
          "output_type": "execute_result",
          "data": {
            "text/plain": [
              "0.6309800787841925"
            ]
          },
          "metadata": {},
          "execution_count": 90
        }
      ]
    },
    {
      "cell_type": "code",
      "metadata": {
        "id": "k7a_hKT75Chm",
        "colab": {
          "base_uri": "https://localhost:8080/",
          "height": 434
        },
        "outputId": "7b423510-4b84-443f-ff88-1fe96648cc2e"
      },
      "source": [
        "fig, ax = plt.subplots()\n",
        "plt.axvline(x = xbar, color='orange')\n",
        "plt.axvline(x = xbar+sigma, color='olivedrab')\n",
        "plt.axvline(x = xbar-sigma, color='olivedrab')\n",
        "_ = plt.hist(x, color = 'lightgray')"
      ],
      "execution_count": null,
      "outputs": [
        {
          "output_type": "display_data",
          "data": {
            "text/plain": [
              "<Figure size 640x480 with 1 Axes>"
            ],
            "image/png": "[encoded data removed]"
          },
          "metadata": {}
        }
      ]
    },
    {
      "cell_type": "markdown",
      "metadata": {
        "id": "TghPdBIE5Chm"
      },
      "source": [
        "#### Standard Error"
      ]
    },
    {
      "cell_type": "markdown",
      "metadata": {
        "id": "vuIykMWN5Chm"
      },
      "source": [
        "A further derivation of standard deviation is **standard error**, which is denoted with $\\sigma_\\bar{x}$:\n",
        "$$ \\sigma_\\bar{x} = \\frac{\\sigma}{\\sqrt{n}} $$"
      ]
    },
    {
      "cell_type": "code",
      "metadata": {
        "id": "6C2xB1UU5Chn",
        "colab": {
          "base_uri": "https://localhost:8080/"
        },
        "outputId": "a04ac941-60ae-436b-9371-ba7ee8adffe3"
      },
      "source": [
        "sigma/(len(x))**(1/2)"
      ],
      "execution_count": null,
      "outputs": [
        {
          "output_type": "execute_result",
          "data": {
            "text/plain": [
              "0.019953342071505353"
            ]
          },
          "metadata": {},
          "execution_count": 92
        }
      ]
    },
    {
      "cell_type": "code",
      "metadata": {
        "id": "Itaub6WD5Chn",
        "colab": {
          "base_uri": "https://localhost:8080/"
        },
        "outputId": "407256bd-d8cf-4580-a5c3-9842e2d3fb78"
      },
      "source": [
        "st.sem(x) # defaults to 1 degree of freedom (n-1), which can be ignored with the larger data sets of ML"
      ],
      "execution_count": null,
      "outputs": [
        {
          "output_type": "execute_result",
          "data": {
            "text/plain": [
              "0.01996332623128527"
            ]
          },
          "metadata": {},
          "execution_count": 93
        }
      ]
    },
    {
      "cell_type": "code",
      "metadata": {
        "id": "YAjsX8WB5Chn",
        "colab": {
          "base_uri": "https://localhost:8080/"
        },
        "outputId": "54cf752b-ad11-4168-84af-31db7e46c432"
      },
      "source": [
        "st.sem(x, ddof=0) # 0 degrees of freedom (n)"
      ],
      "execution_count": null,
      "outputs": [
        {
          "output_type": "execute_result",
          "data": {
            "text/plain": [
              "0.01995334207150536"
            ]
          },
          "metadata": {},
          "execution_count": 94
        }
      ]
    },
    {
      "cell_type": "markdown",
      "metadata": {
        "id": "MuPQwbJn5Chn"
      },
      "source": [
        "Standard error enables us to compare whether the means of two distributions differ *significantly*, a focus of *Intro to Stats*."
      ]
    },
    {
      "cell_type": "markdown",
      "metadata": {
        "id": "XwRxQf9E5Chn"
      },
      "source": [
        "### Measures of Relatedness"
      ]
    },
    {
      "cell_type": "markdown",
      "metadata": {
        "id": "ttvO-Q_B5Chn"
      },
      "source": [
        "If we have two vectors of the same length, $x$ and $y$, where each element of $x$ is paired with the corresponding element of $y$, **covariance** provides a measure of how related the variables are to each other:\n",
        "$$ \\text{cov}(x, y) = \\frac{\\sum_{i=1}^n (x_i - \\bar{x})(y_i - \\bar{y}) }{n} $$"
      ]
    },
    {
      "cell_type": "code",
      "metadata": {
        "id": "oP01sWnf5Cho",
        "colab": {
          "base_uri": "https://localhost:8080/",
          "height": 423
        },
        "outputId": "fe3a115d-bf2b-45e0-c2f9-11a1e981dbe3"
      },
      "source": [
        "iris"
      ],
      "execution_count": null,
      "outputs": [
        {
          "output_type": "execute_result",
          "data": {
            "text/plain": [
              "     sepal_length  sepal_width  petal_length  petal_width    species\n",
              "0             5.1          3.5           1.4          0.2     setosa\n",
              "1             4.9          3.0           1.4          0.2     setosa\n",
              "2             4.7          3.2           1.3          0.2     setosa\n",
              "3             4.6          3.1           1.5          0.2     setosa\n",
              "4             5.0          3.6           1.4          0.2     setosa\n",
              "..            ...          ...           ...          ...        ...\n",
              "145           6.7          3.0           5.2          2.3  virginica\n",
              "146           6.3          2.5           5.0          1.9  virginica\n",
              "147           6.5          3.0           5.2          2.0  virginica\n",
              "148           6.2          3.4           5.4          2.3  virginica\n",
              "149           5.9          3.0           5.1          1.8  virginica\n",
              "\n",
              "[150 rows x 5 columns]"
            ],
            "text/html": [
              "\n",
              "  <div id=\"df-f8891bd5-5e48-4b03-84da-c2208ec64c51\" class=\"colab-df-container\">\n",
              "    <div>\n",
              "<style scoped>\n",
              "    .dataframe tbody tr th:only-of-type {\n",
              "        vertical-align: middle;\n",
              "    }\n",
              "\n",
              "    .dataframe tbody tr th {\n",
              "        vertical-align: top;\n",
              "    }\n",
              "\n",
              "    .dataframe thead th {\n",
              "        text-align: right;\n",
              "    }\n",
              "</style>\n",
              "<table border=\"1\" class=\"dataframe\">\n",
              "  <thead>\n",
              "    <tr style=\"text-align: right;\">\n",
              "      <th></th>\n",
              "      <th>sepal_length</th>\n",
              "      <th>sepal_width</th>\n",
              "      <th>petal_length</th>\n",
              "      <th>petal_width</th>\n",
              "      <th>species</th>\n",
              "    </tr>\n",
              "  </thead>\n",
              "  <tbody>\n",
              "    <tr>\n",
              "      <th>0</th>\n",
              "      <td>5.1</td>\n",
              "      <td>3.5</td>\n",
              "      <td>1.4</td>\n",
              "      <td>0.2</td>\n",
              "      <td>setosa</td>\n",
              "    </tr>\n",
              "    <tr>\n",
              "      <th>1</th>\n",
              "      <td>4.9</td>\n",
              "      <td>3.0</td>\n",
              "      <td>1.4</td>\n",
              "      <td>0.2</td>\n",
              "      <td>setosa</td>\n",
              "    </tr>\n",
              "    <tr>\n",
              "      <th>2</th>\n",
              "      <td>4.7</td>\n",
              "      <td>3.2</td>\n",
              "      <td>1.3</td>\n",
              "      <td>0.2</td>\n",
              "      <td>setosa</td>\n",
              "    </tr>\n",
              "    <tr>\n",
              "      <th>3</th>\n",
              "      <td>4.6</td>\n",
              "      <td>3.1</td>\n",
              "      <td>1.5</td>\n",
              "      <td>0.2</td>\n",
              "      <td>setosa</td>\n",
              "    </tr>\n",
              "    <tr>\n",
              "      <th>4</th>\n",
              "      <td>5.0</td>\n",
              "      <td>3.6</td>\n",
              "      <td>1.4</td>\n",
              "      <td>0.2</td>\n",
              "      <td>setosa</td>\n",
              "    </tr>\n",
              "    <tr>\n",
              "      <th>...</th>\n",
              "      <td>...</td>\n",
              "      <td>...</td>\n",
              "      <td>...</td>\n",
              "      <td>...</td>\n",
              "      <td>...</td>\n",
              "    </tr>\n",
              "    <tr>\n",
              "      <th>145</th>\n",
              "      <td>6.7</td>\n",
              "      <td>3.0</td>\n",
              "      <td>5.2</td>\n",
              "      <td>2.3</td>\n",
              "      <td>virginica</td>\n",
              "    </tr>\n",
              "    <tr>\n",
              "      <th>146</th>\n",
              "      <td>6.3</td>\n",
              "      <td>2.5</td>\n",
              "      <td>5.0</td>\n",
              "      <td>1.9</td>\n",
              "      <td>virginica</td>\n",
              "    </tr>\n",
              "    <tr>\n",
              "      <th>147</th>\n",
              "      <td>6.5</td>\n",
              "      <td>3.0</td>\n",
              "      <td>5.2</td>\n",
              "      <td>2.0</td>\n",
              "      <td>virginica</td>\n",
              "    </tr>\n",
              "    <tr>\n",
              "      <th>148</th>\n",
              "      <td>6.2</td>\n",
              "      <td>3.4</td>\n",
              "      <td>5.4</td>\n",
              "      <td>2.3</td>\n",
              "      <td>virginica</td>\n",
              "    </tr>\n",
              "    <tr>\n",
              "      <th>149</th>\n",
              "      <td>5.9</td>\n",
              "      <td>3.0</td>\n",
              "      <td>5.1</td>\n",
              "      <td>1.8</td>\n",
              "      <td>virginica</td>\n",
              "    </tr>\n",
              "  </tbody>\n",
              "</table>\n",
              "<p>150 rows × 5 columns</p>\n",
              "</div>\n",
              "    <div class=\"colab-df-buttons\">\n",
              "\n",
              "  <div class=\"colab-df-container\">\n",
              "    <button class=\"colab-df-convert\" onclick=\"convertToInteractive('df-f8891bd5-5e48-4b03-84da-c2208ec64c51')\"\n",
              "            title=\"Convert this dataframe to an interactive table.\"\n",
              "            style=\"display:none;\">\n",
              "\n",
              "  <svg xmlns=\"http://www.w3.org/2000/svg\" height=\"24px\" viewBox=\"0 -960 960 960\">\n",
              "    <path d=\"M120-120v-720h720v720H120Zm60-500h600v-160H180v160Zm220 220h160v-160H400v160Zm0 220h160v-160H400v160ZM180-400h160v-160H180v160Zm440 0h160v-160H620v160ZM180-180h160v-160H180v160Zm440 0h160v-160H620v160Z\"/>\n",
              "  </svg>\n",
              "    </button>\n",
              "\n",
              "  <style>\n",
              "    .colab-df-container {\n",
              "      display:flex;\n",
              "      gap: 12px;\n",
              "    }\n",
              "\n",
              "    .colab-df-convert {\n",
              "      background-color: #E8F0FE;\n",
              "      border: none;\n",
              "      border-radius: 50%;\n",
              "      cursor: pointer;\n",
              "      display: none;\n",
              "      fill: #1967D2;\n",
              "      height: 32px;\n",
              "      padding: 0 0 0 0;\n",
              "      width: 32px;\n",
              "    }\n",
              "\n",
              "    .colab-df-convert:hover {\n",
              "      background-color: #E2EBFA;\n",
              "      box-shadow: 0px 1px 2px rgba(60, 64, 67, 0.3), 0px 1px 3px 1px rgba(60, 64, 67, 0.15);\n",
              "      fill: #174EA6;\n",
              "    }\n",
              "\n",
              "    .colab-df-buttons div {\n",
              "      margin-bottom: 4px;\n",
              "    }\n",
              "\n",
              "    [theme=dark] .colab-df-convert {\n",
              "      background-color: #3B4455;\n",
              "      fill: #D2E3FC;\n",
              "    }\n",
              "\n",
              "    [theme=dark] .colab-df-convert:hover {\n",
              "      background-color: #434B5C;\n",
              "      box-shadow: 0px 1px 3px 1px rgba(0, 0, 0, 0.15);\n",
              "      filter: drop-shadow(0px 1px 2px rgba(0, 0, 0, 0.3));\n",
              "      fill: #FFFFFF;\n",
              "    }\n",
              "  </style>\n",
              "\n",
              "    <script>\n",
              "      const buttonEl =\n",
              "        document.querySelector('#df-f8891bd5-5e48-4b03-84da-c2208ec64c51 button.colab-df-convert');\n",
              "      buttonEl.style.display =\n",
              "        google.colab.kernel.accessAllowed ? 'block' : 'none';\n",
              "\n",
              "      async function convertToInteractive(key) {\n",
              "        const element = document.querySelector('#df-f8891bd5-5e48-4b03-84da-c2208ec64c51');\n",
              "        const dataTable =\n",
              "          await google.colab.kernel.invokeFunction('convertToInteractive',\n",
              "                                                    [key], {});\n",
              "        if (!dataTable) return;\n",
              "\n",
              "        const docLinkHtml = 'Like what you see? Visit the ' +\n",
              "          '<a target=\"_blank\" href=https://colab.research.google.com/notebooks/data_table.ipynb>data table notebook</a>'\n",
              "          + ' to learn more about interactive tables.';\n",
              "        element.innerHTML = '';\n",
              "        dataTable['output_type'] = 'display_data';\n",
              "        await google.colab.output.renderOutput(dataTable, element);\n",
              "        const docLink = document.createElement('div');\n",
              "        docLink.innerHTML = docLinkHtml;\n",
              "        element.appendChild(docLink);\n",
              "      }\n",
              "    </script>\n",
              "  </div>\n",
              "\n",
              "\n",
              "<div id=\"df-ae828a16-4200-4a46-a152-4f8b06ef70a3\">\n",
              "  <button class=\"colab-df-quickchart\" onclick=\"quickchart('df-ae828a16-4200-4a46-a152-4f8b06ef70a3')\"\n",
              "            title=\"Suggest charts\"\n",
              "            style=\"display:none;\">\n",
              "\n",
              "<svg xmlns=\"http://www.w3.org/2000/svg\" height=\"24px\"viewBox=\"0 0 24 24\"\n",
              "     width=\"24px\">\n",
              "    <g>\n",
              "        <path d=\"M19 3H5c-1.1 0-2 .9-2 2v14c0 1.1.9 2 2 2h14c1.1 0 2-.9 2-2V5c0-1.1-.9-2-2-2zM9 17H7v-7h2v7zm4 0h-2V7h2v10zm4 0h-2v-4h2v4z\"/>\n",
              "    </g>\n",
              "</svg>\n",
              "  </button>\n",
              "\n",
              "<style>\n",
              "  .colab-df-quickchart {\n",
              "      --bg-color: #E8F0FE;\n",
              "      --fill-color: #1967D2;\n",
              "      --hover-bg-color: #E2EBFA;\n",
              "      --hover-fill-color: #174EA6;\n",
              "      --disabled-fill-color: #AAA;\n",
              "      --disabled-bg-color: #DDD;\n",
              "  }\n",
              "\n",
              "  [theme=dark] .colab-df-quickchart {\n",
              "      --bg-color: #3B4455;\n",
              "      --fill-color: #D2E3FC;\n",
              "      --hover-bg-color: #434B5C;\n",
              "      --hover-fill-color: #FFFFFF;\n",
              "      --disabled-bg-color: #3B4455;\n",
              "      --disabled-fill-color: #666;\n",
              "  }\n",
              "\n",
              "  .colab-df-quickchart {\n",
              "    background-color: var(--bg-color);\n",
              "    border: none;\n",
              "    border-radius: 50%;\n",
              "    cursor: pointer;\n",
              "    display: none;\n",
              "    fill: var(--fill-color);\n",
              "    height: 32px;\n",
              "    padding: 0;\n",
              "    width: 32px;\n",
              "  }\n",
              "\n",
              "  .colab-df-quickchart:hover {\n",
              "    background-color: var(--hover-bg-color);\n",
              "    box-shadow: 0 1px 2px rgba(60, 64, 67, 0.3), 0 1px 3px 1px rgba(60, 64, 67, 0.15);\n",
              "    fill: var(--button-hover-fill-color);\n",
              "  }\n",
              "\n",
              "  .colab-df-quickchart-complete:disabled,\n",
              "  .colab-df-quickchart-complete:disabled:hover {\n",
              "    background-color: var(--disabled-bg-color);\n",
              "    fill: var(--disabled-fill-color);\n",
              "    box-shadow: none;\n",
              "  }\n",
              "\n",
              "  .colab-df-spinner {\n",
              "    border: 2px solid var(--fill-color);\n",
              "    border-color: transparent;\n",
              "    border-bottom-color: var(--fill-color);\n",
              "    animation:\n",
              "      spin 1s steps(1) infinite;\n",
              "  }\n",
              "\n",
              "  @keyframes spin {\n",
              "    0% {\n",
              "      border-color: transparent;\n",
              "      border-bottom-color: var(--fill-color);\n",
              "      border-left-color: var(--fill-color);\n",
              "    }\n",
              "    20% {\n",
              "      border-color: transparent;\n",
              "      border-left-color: var(--fill-color);\n",
              "      border-top-color: var(--fill-color);\n",
              "    }\n",
              "    30% {\n",
              "      border-color: transparent;\n",
              "      border-left-color: var(--fill-color);\n",
              "      border-top-color: var(--fill-color);\n",
              "      border-right-color: var(--fill-color);\n",
              "    }\n",
              "    40% {\n",
              "      border-color: transparent;\n",
              "      border-right-color: var(--fill-color);\n",
              "      border-top-color: var(--fill-color);\n",
              "    }\n",
              "    60% {\n",
              "      border-color: transparent;\n",
              "      border-right-color: var(--fill-color);\n",
              "    }\n",
              "    80% {\n",
              "      border-color: transparent;\n",
              "      border-right-color: var(--fill-color);\n",
              "      border-bottom-color: var(--fill-color);\n",
              "    }\n",
              "    90% {\n",
              "      border-color: transparent;\n",
              "      border-bottom-color: var(--fill-color);\n",
              "    }\n",
              "  }\n",
              "</style>\n",
              "\n",
              "  <script>\n",
              "    async function quickchart(key) {\n",
              "      const quickchartButtonEl =\n",
              "        document.querySelector('#' + key + ' button');\n",
              "      quickchartButtonEl.disabled = true;  // To prevent multiple clicks.\n",
              "      quickchartButtonEl.classList.add('colab-df-spinner');\n",
              "      try {\n",
              "        const charts = await google.colab.kernel.invokeFunction(\n",
              "            'suggestCharts', [key], {});\n",
              "      } catch (error) {\n",
              "        console.error('Error during call to suggestCharts:', error);\n",
              "      }\n",
              "      quickchartButtonEl.classList.remove('colab-df-spinner');\n",
              "      quickchartButtonEl.classList.add('colab-df-quickchart-complete');\n",
              "    }\n",
              "    (() => {\n",
              "      let quickchartButtonEl =\n",
              "        document.querySelector('#df-ae828a16-4200-4a46-a152-4f8b06ef70a3 button');\n",
              "      quickchartButtonEl.style.display =\n",
              "        google.colab.kernel.accessAllowed ? 'block' : 'none';\n",
              "    })();\n",
              "  </script>\n",
              "</div>\n",
              "\n",
              "  <div id=\"id_82820685-8079-4319-9c06-63347f588a46\">\n",
              "    <style>\n",
              "      .colab-df-generate {\n",
              "        background-color: #E8F0FE;\n",
              "        border: none;\n",
              "        border-radius: 50%;\n",
              "        cursor: pointer;\n",
              "        display: none;\n",
              "        fill: #1967D2;\n",
              "        height: 32px;\n",
              "        padding: 0 0 0 0;\n",
              "        width: 32px;\n",
              "      }\n",
              "\n",
              "      .colab-df-generate:hover {\n",
              "        background-color: #E2EBFA;\n",
              "        box-shadow: 0px 1px 2px rgba(60, 64, 67, 0.3), 0px 1px 3px 1px rgba(60, 64, 67, 0.15);\n",
              "        fill: #174EA6;\n",
              "      }\n",
              "\n",
              "      [theme=dark] .colab-df-generate {\n",
              "        background-color: #3B4455;\n",
              "        fill: #D2E3FC;\n",
              "      }\n",
              "\n",
              "      [theme=dark] .colab-df-generate:hover {\n",
              "        background-color: #434B5C;\n",
              "        box-shadow: 0px 1px 3px 1px rgba(0, 0, 0, 0.15);\n",
              "        filter: drop-shadow(0px 1px 2px rgba(0, 0, 0, 0.3));\n",
              "        fill: #FFFFFF;\n",
              "      }\n",
              "    </style>\n",
              "    <button class=\"colab-df-generate\" onclick=\"generateWithVariable('iris')\"\n",
              "            title=\"Generate code using this dataframe.\"\n",
              "            style=\"display:none;\">\n",
              "\n",
              "  <svg xmlns=\"http://www.w3.org/2000/svg\" height=\"24px\"viewBox=\"0 0 24 24\"\n",
              "       width=\"24px\">\n",
              "    <path d=\"M7,19H8.4L18.45,9,17,7.55,7,17.6ZM5,21V16.75L18.45,3.32a2,2,0,0,1,2.83,0l1.4,1.43a1.91,1.91,0,0,1,.58,1.4,1.91,1.91,0,0,1-.58,1.4L9.25,21ZM18.45,9,17,7.55Zm-12,3A5.31,5.31,0,0,0,4.9,8.1,5.31,5.31,0,0,0,1,6.5,5.31,5.31,0,0,0,4.9,4.9,5.31,5.31,0,0,0,6.5,1,5.31,5.31,0,0,0,8.1,4.9,5.31,5.31,0,0,0,12,6.5,5.46,5.46,0,0,0,6.5,12Z\"/>\n",
              "  </svg>\n",
              "    </button>\n",
              "    <script>\n",
              "      (() => {\n",
              "      const buttonEl =\n",
              "        document.querySelector('#id_82820685-8079-4319-9c06-63347f588a46 button.colab-df-generate');\n",
              "      buttonEl.style.display =\n",
              "        google.colab.kernel.accessAllowed ? 'block' : 'none';\n",
              "\n",
              "      buttonEl.onclick = () => {\n",
              "        google.colab.notebook.generateWithVariable('iris');\n",
              "      }\n",
              "      })();\n",
              "    </script>\n",
              "  </div>\n",
              "\n",
              "    </div>\n",
              "  </div>\n"
            ],
            "application/vnd.google.colaboratory.intrinsic+json": {
              "type": "dataframe",
              "variable_name": "iris",
              "summary": "{\n  \"name\": \"iris\",\n  \"rows\": 150,\n  \"fields\": [\n    {\n      \"column\": \"sepal_length\",\n      \"properties\": {\n        \"dtype\": \"number\",\n        \"std\": 0.828066127977863,\n        \"min\": 4.3,\n        \"max\": 7.9,\n        \"num_unique_values\": 35,\n        \"samples\": [\n          6.2,\n          4.5,\n          5.6\n        ],\n        \"semantic_type\": \"\",\n        \"description\": \"\"\n      }\n    },\n    {\n      \"column\": \"sepal_width\",\n      \"properties\": {\n        \"dtype\": \"number\",\n        \"std\": 0.4358662849366982,\n        \"min\": 2.0,\n        \"max\": 4.4,\n        \"num_unique_values\": 23,\n        \"samples\": [\n          2.3,\n          4.0,\n          3.5\n        ],\n        \"semantic_type\": \"\",\n        \"description\": \"\"\n      }\n    },\n    {\n      \"column\": \"petal_length\",\n      \"properties\": {\n        \"dtype\": \"number\",\n        \"std\": 1.7652982332594662,\n        \"min\": 1.0,\n        \"max\": 6.9,\n        \"num_unique_values\": 43,\n        \"samples\": [\n          6.7,\n          3.8,\n          3.7\n        ],\n        \"semantic_type\": \"\",\n        \"description\": \"\"\n      }\n    },\n    {\n      \"column\": \"petal_width\",\n      \"properties\": {\n        \"dtype\": \"number\",\n        \"std\": 0.7622376689603465,\n        \"min\": 0.1,\n        \"max\": 2.5,\n        \"num_unique_values\": 22,\n        \"samples\": [\n          0.2,\n          1.2,\n          1.3\n        ],\n        \"semantic_type\": \"\",\n        \"description\": \"\"\n      }\n    },\n    {\n      \"column\": \"species\",\n      \"properties\": {\n        \"dtype\": \"category\",\n        \"num_unique_values\": 3,\n        \"samples\": [\n          \"setosa\",\n          \"versicolor\",\n          \"virginica\"\n        ],\n        \"semantic_type\": \"\",\n        \"description\": \"\"\n      }\n    }\n  ]\n}"
            }
          },
          "metadata": {},
          "execution_count": 95
        }
      ]
    },
    {
      "cell_type": "code",
      "metadata": {
        "id": "t9rSqTHC5Cho"
      },
      "source": [
        "x = iris.sepal_length\n",
        "y = iris.petal_length"
      ],
      "execution_count": null,
      "outputs": []
    },
    {
      "cell_type": "code",
      "metadata": {
        "id": "hM-_V5jF5Cho",
        "colab": {
          "base_uri": "https://localhost:8080/",
          "height": 458
        },
        "outputId": "2391c85c-d4ef-4a48-b35b-724045c818b4"
      },
      "source": [
        "_ = sns.scatterplot(x=x, y=y)"
      ],
      "execution_count": null,
      "outputs": [
        {
          "output_type": "display_data",
          "data": {
            "text/plain": [
              "<Figure size 640x480 with 1 Axes>"
            ],
            "image/png": "[encoded data removed]"
          },
          "metadata": {}
        }
      ]
    },
    {
      "cell_type": "code",
      "metadata": {
        "id": "rfOYkAzt5Cho"
      },
      "source": [
        "n = len(x)"
      ],
      "execution_count": null,
      "outputs": []
    },
    {
      "cell_type": "code",
      "metadata": {
        "id": "-VIXsv3j5Cho"
      },
      "source": [
        "xbar = sum(x)/n\n",
        "ybar = sum(y)/n"
      ],
      "execution_count": null,
      "outputs": []
    },
    {
      "cell_type": "code",
      "metadata": {
        "id": "15WoxxTH5Cho"
      },
      "source": [
        "product = []\n",
        "for i in range(n):\n",
        "    product.append((x[i]-xbar)*(y[i]-ybar))"
      ],
      "execution_count": null,
      "outputs": []
    },
    {
      "cell_type": "code",
      "metadata": {
        "id": "gygz20ti5Cho",
        "colab": {
          "base_uri": "https://localhost:8080/"
        },
        "outputId": "fc52cc18-2770-48e2-d025-e281a44da63e"
      },
      "source": [
        "cov = sum(product)/n\n",
        "cov"
      ],
      "execution_count": null,
      "outputs": [
        {
          "output_type": "execute_result",
          "data": {
            "text/plain": [
              "1.2658199999999995"
            ]
          },
          "metadata": {},
          "execution_count": 101
        }
      ]
    },
    {
      "cell_type": "markdown",
      "metadata": {
        "id": "YEc4sv0v5Chp"
      },
      "source": [
        "The NumPy `cov()` method returns a **covariance matrix**, which is a $2 \\times 2$ matrix because $x$ and $y$ together describe a two-dimensional space:"
      ]
    },
    {
      "cell_type": "code",
      "metadata": {
        "id": "6n9HymBG5Chp",
        "colab": {
          "base_uri": "https://localhost:8080/"
        },
        "outputId": "cd143ec1-6454-4d74-9248-190df460b0e3"
      },
      "source": [
        "np.cov(x, y, ddof=0) # again, defaults to ddof=1"
      ],
      "execution_count": null,
      "outputs": [
        {
          "output_type": "execute_result",
          "data": {
            "text/plain": [
              "array([[0.68112222, 1.26582   ],\n",
              "       [1.26582   , 3.09550267]])"
            ]
          },
          "metadata": {},
          "execution_count": 102
        }
      ]
    },
    {
      "cell_type": "markdown",
      "metadata": {
        "id": "yBXI9B2-5Chp"
      },
      "source": [
        "The diagonal elements of the covariance matrix represent the variance of $x$ and $y$, respectively:"
      ]
    },
    {
      "cell_type": "code",
      "metadata": {
        "id": "uKhq8mSA5Chp",
        "colab": {
          "base_uri": "https://localhost:8080/"
        },
        "outputId": "ef2295a0-9eb5-48c2-8c87-312f79c2ba77"
      },
      "source": [
        "np.var(x)"
      ],
      "execution_count": null,
      "outputs": [
        {
          "output_type": "execute_result",
          "data": {
            "text/plain": [
              "0.6811222222222223"
            ]
          },
          "metadata": {},
          "execution_count": 103
        }
      ]
    },
    {
      "cell_type": "code",
      "metadata": {
        "id": "NrtQqVjr5Chp",
        "colab": {
          "base_uri": "https://localhost:8080/"
        },
        "outputId": "93b1d5c6-ea20-4347-8089-2ecebd429270"
      },
      "source": [
        "np.var(y)"
      ],
      "execution_count": null,
      "outputs": [
        {
          "output_type": "execute_result",
          "data": {
            "text/plain": [
              "3.0955026666666665"
            ]
          },
          "metadata": {},
          "execution_count": 104
        }
      ]
    },
    {
      "cell_type": "markdown",
      "metadata": {
        "id": "1y2wfLeD5Chq"
      },
      "source": [
        "If $x$ and $y$ are inversely related, their covariance is negative. The less related they are, the closer their covariance is to zero:"
      ]
    },
    {
      "cell_type": "code",
      "metadata": {
        "id": "epIqQ-p25Chq",
        "colab": {
          "base_uri": "https://localhost:8080/",
          "height": 461
        },
        "outputId": "c5c7f038-449c-4734-9ec5-d4af788e6463"
      },
      "source": [
        "_ = sns.scatterplot(x=iris.sepal_length, y=iris.sepal_width)"
      ],
      "execution_count": null,
      "outputs": [
        {
          "output_type": "display_data",
          "data": {
            "text/plain": [
              "<Figure size 640x480 with 1 Axes>"
            ],
            "image/png": "[encoded data removed]"
          },
          "metadata": {}
        }
      ]
    },
    {
      "cell_type": "code",
      "metadata": {
        "id": "QoIKgBHf5Chq",
        "colab": {
          "base_uri": "https://localhost:8080/"
        },
        "outputId": "1d086b09-7334-4b5e-d199-c45761411cdd"
      },
      "source": [
        "np.cov(iris.sepal_length, iris.sepal_width, ddof=0)"
      ],
      "execution_count": null,
      "outputs": [
        {
          "output_type": "execute_result",
          "data": {
            "text/plain": [
              "array([[ 0.68112222, -0.04215111],\n",
              "       [-0.04215111,  0.18871289]])"
            ]
          },
          "metadata": {},
          "execution_count": 106
        }
      ]
    },
    {
      "cell_type": "markdown",
      "metadata": {
        "id": "t7GPaB_m5Chq"
      },
      "source": [
        "#### Correlation"
      ]
    },
    {
      "cell_type": "markdown",
      "metadata": {
        "id": "uFDuVBQE5Chq"
      },
      "source": [
        "A drawback of covariance is that it confounds the relative scale of two variables with a measure of the variables' relatedness. **Correlation** builds on covariance and overcomes this drawback via rescaling, thereby measuring relatedness exclusively. Correlation is much more common because of this difference.\n",
        "\n",
        "The correlation coefficient (developed by Karl Pearson in the 20th c. though known in the 19th c.) is often denoted with $r$ or $\\rho$ and is defined by:\n",
        "$$ \\rho_{x,y} = \\frac{\\text{cov}(x,y)}{\\sigma_x \\sigma_y} $$"
      ]
    },
    {
      "cell_type": "code",
      "metadata": {
        "id": "j2FfBUs_5Chq"
      },
      "source": [
        "cov = -0.04215111\n",
        "sigma_sq_x = 0.68112222\n",
        "sigma_sq_y = 0.18871289"
      ],
      "execution_count": null,
      "outputs": []
    },
    {
      "cell_type": "code",
      "metadata": {
        "id": "r6fRzR015Chr"
      },
      "source": [
        "sigma_x = sigma_sq_x**(1/2)\n",
        "sigma_y = sigma_sq_y**(1/2)"
      ],
      "execution_count": null,
      "outputs": []
    },
    {
      "cell_type": "code",
      "metadata": {
        "id": "O3fHMlFY5Chr",
        "colab": {
          "base_uri": "https://localhost:8080/"
        },
        "outputId": "7a1fa8ae-2965-46b2-97cb-7d6c3042650c"
      },
      "source": [
        "cov / (sigma_x * sigma_y)"
      ],
      "execution_count": null,
      "outputs": [
        {
          "output_type": "execute_result",
          "data": {
            "text/plain": [
              "-0.11756978087951572"
            ]
          },
          "metadata": {},
          "execution_count": 109
        }
      ]
    },
    {
      "cell_type": "code",
      "metadata": {
        "id": "LYHyhLnC5Chr",
        "colab": {
          "base_uri": "https://localhost:8080/"
        },
        "outputId": "45bd10bc-d7cc-401f-8939-8f117d7067d0"
      },
      "source": [
        "st.pearsonr(iris.sepal_length, iris.sepal_width)"
      ],
      "execution_count": null,
      "outputs": [
        {
          "output_type": "execute_result",
          "data": {
            "text/plain": [
              "PearsonRResult(statistic=-0.11756978413300206, pvalue=0.15189826071144746)"
            ]
          },
          "metadata": {},
          "execution_count": 110
        }
      ]
    },
    {
      "cell_type": "markdown",
      "metadata": {
        "id": "Jp8yMtiM5Chr"
      },
      "source": [
        "The second value output of `pearsonr` is a measure of statistical significance, which we'll detail in *Intro to Stats*."
      ]
    },
    {
      "cell_type": "markdown",
      "metadata": {
        "id": "J3HRJ9S7klIp"
      },
      "source": [
        "$\\rho$ has a range of -1 to 1, with values closer to zero indicating less correlation:"
      ]
    },
    {
      "cell_type": "code",
      "metadata": {
        "id": "6vF_9wgj5Chr",
        "colab": {
          "base_uri": "https://localhost:8080/"
        },
        "outputId": "0ecea57b-2585-4a23-dc6f-bfda11bc7f72"
      },
      "source": [
        "st.pearsonr(iris.sepal_length, iris.sepal_width)[0]"
      ],
      "execution_count": null,
      "outputs": [
        {
          "output_type": "execute_result",
          "data": {
            "text/plain": [
              "-0.11756978413300206"
            ]
          },
          "metadata": {},
          "execution_count": 111
        }
      ]
    },
    {
      "cell_type": "markdown",
      "metadata": {
        "id": "dUIa7O-6lXy8"
      },
      "source": [
        "The closer $\\rho$ is to 1 or -1, the stronger the positive or negative correlation, respectively:"
      ]
    },
    {
      "cell_type": "code",
      "metadata": {
        "id": "d9KqkNOr5Chr",
        "colab": {
          "base_uri": "https://localhost:8080/"
        },
        "outputId": "9ad8c5c8-ee00-4ace-d43c-609487f33757"
      },
      "source": [
        "st.pearsonr(iris.sepal_length, iris.petal_length)[0]"
      ],
      "execution_count": null,
      "outputs": [
        {
          "output_type": "execute_result",
          "data": {
            "text/plain": [
              "0.8717537758865831"
            ]
          },
          "metadata": {},
          "execution_count": 112
        }
      ]
    },
    {
      "cell_type": "markdown",
      "metadata": {
        "id": "negAO_iA5Chs"
      },
      "source": [
        "N.B.: Covariance and correlation only account for linear relationships. Two variables could be non-linearly related to each other and these metrics could come out as zero."
      ]
    }
  ]
}